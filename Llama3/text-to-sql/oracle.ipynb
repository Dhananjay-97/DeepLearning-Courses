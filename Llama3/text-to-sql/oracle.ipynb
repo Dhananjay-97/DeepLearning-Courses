{
 "cells": [
  {
   "cell_type": "code",
   "execution_count": 1,
   "metadata": {},
   "outputs": [
    {
     "name": "stderr",
     "output_type": "stream",
     "text": [
      "C:\\Users\\dhananjayl\\AppData\\Local\\Temp\\ipykernel_27772\\2407945860.py:2: LangChainDeprecationWarning: The class `Ollama` was deprecated in LangChain 0.3.1 and will be removed in 1.0.0. An updated version of the class exists in the :class:`~langchain-ollama package and should be used instead. To use it run `pip install -U :class:`~langchain-ollama` and import as `from :class:`~langchain_ollama import OllamaLLM``.\n",
      "  llm = Ollama(model = \"llama3.2\")\n"
     ]
    }
   ],
   "source": [
    "from langchain_community.llms import Ollama\n",
    "llm = Ollama(model = \"llama3.2\")"
   ]
  },
  {
   "cell_type": "code",
   "execution_count": 2,
   "metadata": {},
   "outputs": [],
   "source": [
    "from langchain_community.utilities import SQLDatabase\n",
    "from langchain.chains import create_sql_query_chain\n",
    "import os"
   ]
  },
  {
   "cell_type": "code",
   "execution_count": 1,
   "metadata": {},
   "outputs": [
    {
     "ename": "NameError",
     "evalue": "name 'SQLDatabase' is not defined",
     "output_type": "error",
     "traceback": [
      "\u001b[1;31m---------------------------------------------------------------------------\u001b[0m",
      "\u001b[1;31mNameError\u001b[0m                                 Traceback (most recent call last)",
      "Cell \u001b[1;32mIn[1], line 2\u001b[0m\n\u001b[0;32m      1\u001b[0m oracleUri \u001b[38;5;241m=\u001b[39m \u001b[38;5;124mf\u001b[39m\u001b[38;5;124m\"\u001b[39m\u001b[38;5;124moracle+oracledb://\u001b[39m\u001b[38;5;132;01m{\u001b[39;00m\u001b[38;5;124m\"\u001b[39m\u001b[38;5;124mHR\u001b[39m\u001b[38;5;124m\"\u001b[39m\u001b[38;5;132;01m}\u001b[39;00m\u001b[38;5;124m:\u001b[39m\u001b[38;5;132;01m{\u001b[39;00m\u001b[38;5;124m\"\u001b[39m\u001b[38;5;124mHR\u001b[39m\u001b[38;5;124m\"\u001b[39m\u001b[38;5;132;01m}\u001b[39;00m\u001b[38;5;124m@(DESCRIPTION = (ADDRESS = (PROTOCOL = TCP)(HOST = \u001b[39m\u001b[38;5;132;01m{\u001b[39;00m\u001b[38;5;124m\"\u001b[39m\u001b[38;5;124m192.168.59.11\u001b[39m\u001b[38;5;124m\"\u001b[39m\u001b[38;5;132;01m}\u001b[39;00m\u001b[38;5;124m)(PORT = \u001b[39m\u001b[38;5;132;01m{\u001b[39;00m\u001b[38;5;241m1521\u001b[39m\u001b[38;5;132;01m}\u001b[39;00m\u001b[38;5;124m))(CONNECT_DATA = (SERVICE_NAME = \u001b[39m\u001b[38;5;132;01m{\u001b[39;00m\u001b[38;5;124m\"\u001b[39m\u001b[38;5;124mXEPDB1\u001b[39m\u001b[38;5;124m\"\u001b[39m\u001b[38;5;132;01m}\u001b[39;00m\u001b[38;5;124m)))\u001b[39m\u001b[38;5;124m\"\u001b[39m\n\u001b[1;32m----> 2\u001b[0m db \u001b[38;5;241m=\u001b[39m \u001b[43mSQLDatabase\u001b[49m\u001b[38;5;241m.\u001b[39mfrom_uri(oracleUri)\n",
      "\u001b[1;31mNameError\u001b[0m: name 'SQLDatabase' is not defined"
     ]
    }
   ],
   "source": [
    "oracleUri = f\"oracle+oracledb://{\"HR\"}:{\"HR\"}@(DESCRIPTION = (ADDRESS = (PROTOCOL = TCP)(HOST = {\"192.168.59.11\"})(PORT = {1521}))(CONNECT_DATA = (SERVICE_NAME = {\"XEPDB1\"})))\"\n",
    "db = SQLDatabase.from_uri(oracleUri)"
   ]
  },
  {
   "cell_type": "code",
   "execution_count": 5,
   "metadata": {},
   "outputs": [],
   "source": [
    "chain = create_sql_query_chain(llm = llm, db = db)"
   ]
  },
  {
   "cell_type": "code",
   "execution_count": null,
   "metadata": {},
   "outputs": [],
   "source": [
    "\"\"\"\n",
    "                    Given an input question, create a syntactically correct Oracle query to run.\\n\n",
    "                    Here is the relevant table info: {table_info}\\n\n",
    "                    Pay attention to use RUMNUM clause to obtain top 5 rows number of rows from the query.Unless the user specifies in the question a {top_k} number of examples to obtain using rownum clause.\n",
    "                    Never query for all columns from a table.\\n\n",
    "                    The sql should not have ``` in the beginning and end.\\n you should avoid using the word sql in your SQL query output.\n",
    "                    The output should not have \\\\n in the sql query.\\n\n",
    "                    Also generate full queries for the given user question.\\nDont include ``` and \\\\n in the output.\n",
    "                    DO NOT make any DML statements (INSERT,UPDATE, DELETE, DROP etc). to the database.\\n\n",
    "                    If the question does not seem related to the database, just return 'I  don't know' as the answer.\n",
    "                    If you don't know answer, mention that you don't know the answer.\\n\n",
    "                    \\nPay attention to use CURDATE() function to get the current date, if the question involves \"today\".\n",
    "                    \\nUse the following format: \n",
    "                    SQLQuery- SQL Query to run\n",
    "                    Assumptions-Atleast 5 Assumptions you made to answer the question as bullet points\\n\n",
    "                    Below are a number of examples of questions and their corresponding SQL queries.\"\"\""
   ]
  },
  {
   "cell_type": "code",
   "execution_count": 15,
   "metadata": {},
   "outputs": [],
   "source": [
    "database_description = \"\"\"\n",
    "\"You are a expert in Oracle who can convert english questions to corresponding Oracle Query.\"\n",
    "\"This is a Oracle database, so please ensure that all queries are compatible with oracle syntax.\n",
    "{\n",
    "    \"table_name\": \"EMPLOYEES\",\n",
    "    \"comments\": \"Employees table with 107 rows, referencing departments, jobs, and job history. Contains a self-reference.\",\n",
    "    \"columns\": [\n",
    "        {\"name\": \"EMPLOYEE_ID\", \"type\": \"NUMBER\", \"comments\": \"Primary key.\"},\n",
    "        {\"name\": \"DEPARTMENT_ID\", \"type\": \"NUMBER\", \"comments\": \"Foreign key to DEPARTMENTS.DEPARTMENT_ID.\"},\n",
    "        {\"name\": \"MANAGER_ID\", \"type\": \"NUMBER\", \"comments\": \"Foreign key to EMPLOYEES.EMPLOYEE_ID (self-referential).\"},\n",
    "        {\"name\": \"COMMISSION_PCT\", \"type\": \"NUMBER\", \"comments\": \"Commission percentage (only for sales employees).\"},\n",
    "        {\"name\": \"SALARY\", \"type\": \"NUMBER\", \"comments\": \"Must be greater than zero.\"},\n",
    "        {\"name\": \"JOB_ID\", \"type\": \"VARCHAR2\", \"comments\": \"Foreign key to JOBS.JOB_ID. Not null.\"},\n",
    "        {\"name\": \"HIRE_DATE\", \"type\": \"DATE\", \"comments\": \"Employee start date. Not null.\"},\n",
    "        {\"name\": \"PHONE_NUMBER\", \"type\": \"VARCHAR2\", \"comments\": \"Includes country and area code.\"},\n",
    "        {\"name\": \"EMAIL\", \"type\": \"VARCHAR2\", \"comments\": \"Employee email.\"},\n",
    "        {\"name\": \"LAST_NAME\", \"type\": \"VARCHAR2\", \"comments\": \"Not null.\"},\n",
    "        {\"name\": \"FIRST_NAME\", \"type\": \"VARCHAR2\", \"comments\": \"Not null.\"}\n",
    "    ]\n",
    "}\n",
    "\"SQLQuery: Please write your query below following above table schema.\"\n",
    "\"\"\""
   ]
  },
  {
   "cell_type": "code",
   "execution_count": 27,
   "metadata": {},
   "outputs": [
    {
     "name": "stderr",
     "output_type": "stream",
     "text": [
      "c:\\Users\\dhananjayl\\AppData\\Local\\miniconda3\\envs\\llama\\Lib\\site-packages\\langchain_community\\utilities\\sql_database.py:317: SAWarning: Cannot correctly sort tables; there are unresolvable cycles between tables \"departments, employees\", which is usually caused by mutually dependent foreign key constraints.  Foreign key constraints involving these tables will not be considered; this warning may raise an error in a future release.\n",
      "  metadata_table_names = [tbl.name for tbl in self._metadata.sorted_tables]\n",
      "c:\\Users\\dhananjayl\\AppData\\Local\\miniconda3\\envs\\llama\\Lib\\site-packages\\langchain_community\\utilities\\sql_database.py:329: SAWarning: Cannot correctly sort tables; there are unresolvable cycles between tables \"departments, employees\", which is usually caused by mutually dependent foreign key constraints.  Foreign key constraints involving these tables will not be considered; this warning may raise an error in a future release.\n",
      "  for tbl in self._metadata.sorted_tables\n"
     ]
    }
   ],
   "source": [
    "# database_description = (\n",
    "#     \"You are a expert in Oracle who can convert english questions to corresponding Oracle Query.\"\n",
    "#     \"This is a Oracle database, so please ensure that all queries are compatible with oracle syntax.\\n\\n\"\n",
    "#     \"SQLQuery: Please write your query below following this format.\"\n",
    "# )\n",
    "\n",
    "response = chain.invoke({\"question\": database_description + \" total number of employees ?\"})"
   ]
  },
  {
   "cell_type": "code",
   "execution_count": 31,
   "metadata": {},
   "outputs": [
    {
     "name": "stdout",
     "output_type": "stream",
     "text": [
      "pattern:re.compile('SQLQuery:\\\\s*(.*);')\n",
      "match:<re.Match object; span=(47, 90), match='SQLQuery:\\nSELECT COUNT(*) FROM \"EMPLOYEES\";'>\n",
      "SELECT COUNT(*) FROM \"EMPLOYEES\"\n"
     ]
    }
   ],
   "source": [
    "import re\n",
    "def extract_sql_query(response):\n",
    "    # Define the regular expression pattern to match the SQL query\n",
    "    pattern = re.compile(r'SQLQuery:\\s*(.*);')\n",
    "    # pattern = re.compile(r'SQLQuery:\\s*```(.*?)```', re.DOTALL)\n",
    "\n",
    "    print(f\"pattern:{pattern}\")\n",
    "    # Search for the pattern in the response\n",
    "    match = pattern.search(response)\n",
    "    print(f\"match:{match}\")\n",
    "    if match:\n",
    "        # Extract and return the matched SQL query\n",
    "        return match.group(1).strip()\n",
    "    else:\n",
    "        return None\n",
    "sql_query = extract_sql_query(response)\n",
    "print(sql_query)"
   ]
  },
  {
   "cell_type": "code",
   "execution_count": 32,
   "metadata": {},
   "outputs": [
    {
     "name": "stdout",
     "output_type": "stream",
     "text": [
      "[(107,)]\n"
     ]
    }
   ],
   "source": [
    "result = db.run(sql_query)\n",
    "print(result)"
   ]
  },
  {
   "cell_type": "code",
   "execution_count": 33,
   "metadata": {},
   "outputs": [
    {
     "name": "stdout",
     "output_type": "stream",
     "text": [
      "Answer: The total number of employees is 107.\n",
      "\n",
      "SQLQuery:\n",
      "SELECT COUNT(*) FROM \"EMPLOYEES\"; \n",
      "\n",
      "Assumptions:\n",
      "\n",
      "* The query only counts rows where EMPLOYEE_ID, DEPARTMENT_ID, and JOB_ID are not NULL to ensure that there is no self-referential issue.\n",
      "* The use of TRUNC(SYSDATE) function was omitted since the HIRE_DATE column already represents the date when each employee joined the company.\n",
      "* The query does not require any additional joins or subqueries because it can directly count the number of rows in the \"EMPLOYEES\" table.\n"
     ]
    }
   ],
   "source": [
    "print(response)"
   ]
  },
  {
   "cell_type": "code",
   "execution_count": 21,
   "metadata": {},
   "outputs": [
    {
     "data": {
      "text/plain": [
       "\"[('Lex',)]\""
      ]
     },
     "execution_count": 21,
     "metadata": {},
     "output_type": "execute_result"
    }
   ],
   "source": [
    "db.run('''SELECT \"FIRST_NAME\"\n",
    "FROM \"EMPLOYEES\"\n",
    "WHERE \"FIRST_NAME\" = 'Lex'\n",
    "ORDER BY \"FIRST_NAME\" ASC\n",
    "FETCH FIRST 1 ROWS ONLY''')"
   ]
  },
  {
   "cell_type": "code",
   "execution_count": null,
   "metadata": {},
   "outputs": [],
   "source": [
    "from db_schema import fetch_db_schema\n",
    "\n",
    "fetch_db_schema(eng)"
   ]
  }
 ],
 "metadata": {
  "kernelspec": {
   "display_name": "llama",
   "language": "python",
   "name": "python3"
  },
  "language_info": {
   "codemirror_mode": {
    "name": "ipython",
    "version": 3
   },
   "file_extension": ".py",
   "mimetype": "text/x-python",
   "name": "python",
   "nbconvert_exporter": "python",
   "pygments_lexer": "ipython3",
   "version": "3.12.6"
  }
 },
 "nbformat": 4,
 "nbformat_minor": 2
}
